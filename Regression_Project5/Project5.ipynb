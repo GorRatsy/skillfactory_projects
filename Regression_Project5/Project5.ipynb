{
 "cells": [
  {
   "cell_type": "markdown",
   "metadata": {
    "tags": []
   },
   "source": [
    "## 1. Постановка задачи"
   ]
  },
  {
   "cell_type": "markdown",
   "metadata": {},
   "source": [
    "<center> <img src=https://storage.googleapis.com/kaggle-competitions/kaggle/3333/media/taxi_meter.png align=\"right\" width=\"300\"/> </center>\n",
    "    \n",
    "Вам предстоит решить настоящую задачу машинного обучения, направленную на автоматизацию бизнес процессов. Мы построим модель, которая будет предсказывать общую продолжительность поездки такси в Нью-Йорке. \n",
    "\n",
    "Представьте вы заказываете такси из одной точки Нью-Йорка в другую, причем не обязательно конечная точка должна находиться в пределах города. Сколько вы должны будете за нее заплатить? Известно, что стоимость такси в США  рассчитывается на основе фиксированной ставки + тарифная стоимость, величина которой зависит от времени и расстояния. Тарифы варьируются в зависимости от города.\n",
    "\n",
    "В свою очередь время поездки зависит от множества факторов таких как, откуда и куда вы едете, в какое время суток вы совершаете вашу поездку, погодных условий и так далее. \n",
    "\n",
    "Таким образом, если мы разработаем алгоритм, способный определять длительность поездки, мы сможем прогнозировать ее стоимость самым тривиальным образом, например, просто умножая стоимость на заданный тариф. \n",
    "Сервисы такси хранят огромные объёмы информации о поездках, включая такие данные как конечная, начальная точка маршрута, дата поездки и ее длительность. Эти данные можно использовать для того, чтобы прогнозировать длительность поездки в автоматическом режиме с привлечением искусственного интеллекта.\n",
    "\n",
    "**Бизнес-задача:** определить характеристики и с их помощью спрогнозировать длительность поездки такси.\n",
    "\n",
    "**Техническая задача для вас как для специалиста в Data Science:** построить модель машинного обучения, которая на основе предложенных характеристик клиента будет предсказывать числовой признак - время поездки такси. То есть решить задачу регрессии.\n",
    "\n",
    "**Основные цели проекта:**\n",
    "1. Сформировать набор данных на основе нескольких источников информации\n",
    "2. Спроектировать новые признаки с помощью Feature Engineering и выявить наиболее значимые при построении модели\n",
    "3. Исследовать предоставленные данные и выявить закономерности\n",
    "4. Построить несколько моделей и выбрать из них наилучшую по заданной метрике\n",
    "5. Спроектировать процесс предсказания времени длительности поездки для новых данных\n",
    "\n",
    "Загрузить свое решение на платформу Kaggle, тем самым поучаствовав в настоящем Data Science соревновании.\n",
    "Во время выполнения проекта вы отработаете навыки работы с несколькими источниками данных, генерации признаков, разведывательного анализа и визуализации данных, отбора признаков и, конечно же, построения моделей машинного обучения!\n"
   ]
  },
  {
   "cell_type": "markdown",
   "metadata": {
    "tags": []
   },
   "source": [
    "## 2. Знакомство с данными, базовый анализ и расширение данных"
   ]
  },
  {
   "cell_type": "markdown",
   "metadata": {},
   "source": [
    "Начнём наше исследование со знакомства с предоставленными данными. А также подгрузим дополнительные источники данных и расширим наш исходный датасет. \n"
   ]
  },
  {
   "cell_type": "markdown",
   "metadata": {},
   "source": [
    "Заранее импортируем модули, которые нам понадобятся для решения задачи:"
   ]
  },
  {
   "cell_type": "code",
   "execution_count": 2,
   "metadata": {},
   "outputs": [],
   "source": [
    "import numpy as np\n",
    "import pandas as pd\n",
    "import matplotlib.pyplot as plt\n",
    "import seaborn as sns\n",
    "import plotly.express as px\n",
    "\n",
    "from scipy import stats\n",
    "from sklearn import linear_model\n",
    "from sklearn import preprocessing\n",
    "from sklearn import model_selection\n",
    "from sklearn import tree\n",
    "from sklearn import ensemble\n",
    "from sklearn import metrics\n",
    "from sklearn import cluster\n",
    "from sklearn import feature_selection"
   ]
  },
  {
   "cell_type": "markdown",
   "metadata": {},
   "source": [
    "Прочитаем наш файл с исходными данными:"
   ]
  },
  {
   "cell_type": "code",
   "execution_count": 3,
   "metadata": {
    "_cell_guid": "79c7e3d0-c299-4dcb-8224-4455121ee9b0",
    "_uuid": "d629ff2d2480ee46fbb7e2d37f6b5fab8052498a",
    "tags": []
   },
   "outputs": [
    {
     "name": "stdout",
     "output_type": "stream",
     "text": [
      "Train data shape: (1458644, 11)\n"
     ]
    },
    {
     "data": {
      "text/html": [
       "<div>\n",
       "<style scoped>\n",
       "    .dataframe tbody tr th:only-of-type {\n",
       "        vertical-align: middle;\n",
       "    }\n",
       "\n",
       "    .dataframe tbody tr th {\n",
       "        vertical-align: top;\n",
       "    }\n",
       "\n",
       "    .dataframe thead th {\n",
       "        text-align: right;\n",
       "    }\n",
       "</style>\n",
       "<table border=\"1\" class=\"dataframe\">\n",
       "  <thead>\n",
       "    <tr style=\"text-align: right;\">\n",
       "      <th></th>\n",
       "      <th>id</th>\n",
       "      <th>vendor_id</th>\n",
       "      <th>pickup_datetime</th>\n",
       "      <th>dropoff_datetime</th>\n",
       "      <th>passenger_count</th>\n",
       "      <th>pickup_longitude</th>\n",
       "      <th>pickup_latitude</th>\n",
       "      <th>dropoff_longitude</th>\n",
       "      <th>dropoff_latitude</th>\n",
       "      <th>store_and_fwd_flag</th>\n",
       "      <th>trip_duration</th>\n",
       "    </tr>\n",
       "  </thead>\n",
       "  <tbody>\n",
       "    <tr>\n",
       "      <th>0</th>\n",
       "      <td>id2875421</td>\n",
       "      <td>2</td>\n",
       "      <td>2016-03-14 17:24:55</td>\n",
       "      <td>2016-03-14 17:32:30</td>\n",
       "      <td>1</td>\n",
       "      <td>-73.982155</td>\n",
       "      <td>40.767937</td>\n",
       "      <td>-73.964630</td>\n",
       "      <td>40.765602</td>\n",
       "      <td>N</td>\n",
       "      <td>455</td>\n",
       "    </tr>\n",
       "    <tr>\n",
       "      <th>1</th>\n",
       "      <td>id2377394</td>\n",
       "      <td>1</td>\n",
       "      <td>2016-06-12 00:43:35</td>\n",
       "      <td>2016-06-12 00:54:38</td>\n",
       "      <td>1</td>\n",
       "      <td>-73.980415</td>\n",
       "      <td>40.738564</td>\n",
       "      <td>-73.999481</td>\n",
       "      <td>40.731152</td>\n",
       "      <td>N</td>\n",
       "      <td>663</td>\n",
       "    </tr>\n",
       "    <tr>\n",
       "      <th>2</th>\n",
       "      <td>id3858529</td>\n",
       "      <td>2</td>\n",
       "      <td>2016-01-19 11:35:24</td>\n",
       "      <td>2016-01-19 12:10:48</td>\n",
       "      <td>1</td>\n",
       "      <td>-73.979027</td>\n",
       "      <td>40.763939</td>\n",
       "      <td>-74.005333</td>\n",
       "      <td>40.710087</td>\n",
       "      <td>N</td>\n",
       "      <td>2124</td>\n",
       "    </tr>\n",
       "    <tr>\n",
       "      <th>3</th>\n",
       "      <td>id3504673</td>\n",
       "      <td>2</td>\n",
       "      <td>2016-04-06 19:32:31</td>\n",
       "      <td>2016-04-06 19:39:40</td>\n",
       "      <td>1</td>\n",
       "      <td>-74.010040</td>\n",
       "      <td>40.719971</td>\n",
       "      <td>-74.012268</td>\n",
       "      <td>40.706718</td>\n",
       "      <td>N</td>\n",
       "      <td>429</td>\n",
       "    </tr>\n",
       "    <tr>\n",
       "      <th>4</th>\n",
       "      <td>id2181028</td>\n",
       "      <td>2</td>\n",
       "      <td>2016-03-26 13:30:55</td>\n",
       "      <td>2016-03-26 13:38:10</td>\n",
       "      <td>1</td>\n",
       "      <td>-73.973053</td>\n",
       "      <td>40.793209</td>\n",
       "      <td>-73.972923</td>\n",
       "      <td>40.782520</td>\n",
       "      <td>N</td>\n",
       "      <td>435</td>\n",
       "    </tr>\n",
       "  </tbody>\n",
       "</table>\n",
       "</div>"
      ],
      "text/plain": [
       "          id  vendor_id      pickup_datetime     dropoff_datetime  \\\n",
       "0  id2875421          2  2016-03-14 17:24:55  2016-03-14 17:32:30   \n",
       "1  id2377394          1  2016-06-12 00:43:35  2016-06-12 00:54:38   \n",
       "2  id3858529          2  2016-01-19 11:35:24  2016-01-19 12:10:48   \n",
       "3  id3504673          2  2016-04-06 19:32:31  2016-04-06 19:39:40   \n",
       "4  id2181028          2  2016-03-26 13:30:55  2016-03-26 13:38:10   \n",
       "\n",
       "   passenger_count  pickup_longitude  pickup_latitude  dropoff_longitude  \\\n",
       "0                1        -73.982155        40.767937         -73.964630   \n",
       "1                1        -73.980415        40.738564         -73.999481   \n",
       "2                1        -73.979027        40.763939         -74.005333   \n",
       "3                1        -74.010040        40.719971         -74.012268   \n",
       "4                1        -73.973053        40.793209         -73.972923   \n",
       "\n",
       "   dropoff_latitude store_and_fwd_flag  trip_duration  \n",
       "0         40.765602                  N            455  \n",
       "1         40.731152                  N            663  \n",
       "2         40.710087                  N           2124  \n",
       "3         40.706718                  N            429  \n",
       "4         40.782520                  N            435  "
      ]
     },
     "execution_count": 3,
     "metadata": {},
     "output_type": "execute_result"
    }
   ],
   "source": [
    "taxi_data = pd.read_csv(\"/home/gor/Downloads/Project5_train_data.zip\", compression='zip')\n",
    "print('Train data shape: {}'.format(taxi_data.shape))\n",
    "taxi_data.head()"
   ]
  },
  {
   "cell_type": "markdown",
   "metadata": {},
   "source": [
    "Итак, у нас с вами есть данные о почти 1.5 миллионах поездок и 11 характеристиках, которые описывают каждую из поездок. "
   ]
  },
  {
   "cell_type": "markdown",
   "metadata": {},
   "source": [
    "Мы условно разделили признаки нескольких групп. Каждой из групп мы в дальнейшем уделим отдельное внимание.\n",
    "\n",
    "**Данные о клиенте и таксопарке:**\n",
    "* id - уникальный идентификатор поездки\n",
    "* vendor_id - уникальный идентификатор поставщика (таксопарка), связанного с записью поездки\n",
    "\n",
    "**Временные характеристики:**\n",
    "* pickup_datetime - дата и время, когда был включен счетчик поездки\n",
    "* dropoff_datetime - дата и время, когда счетчик был отключен\n",
    "\n",
    "**Географическая информация:**\n",
    "* pickup_longitude -  долгота, на которой был включен счетчик\n",
    "* pickup_latitude - широта, на которой был включен счетчик\n",
    "* dropoff_longitude - долгота, на которой счетчик был отключен\n",
    "* dropoff_latitude - широта, на которой счетчик был отключен\n",
    "\n",
    "**Прочие признаки:**\n",
    "* passenger_count - количество пассажиров в транспортном средстве (введенное водителем значение)\n",
    "* store_and_fwd_flag - флаг, который указывает, сохранилась ли запись о поездке в памяти транспортного средства перед отправкой поставщику. Y - хранить и пересылать, N - не хранить и не пересылать поездку.\n",
    "\n",
    "**Целевой признак:**\n",
    "* trip_duration - продолжительность поездки в секундах\n"
   ]
  },
  {
   "cell_type": "markdown",
   "metadata": {},
   "source": [
    "Для начала мы проведем базовый анализ того, насколько данные готовы к дальнейшей предобработке и анализу. "
   ]
  },
  {
   "cell_type": "markdown",
   "metadata": {},
   "source": [
    "### Задание 2.1\n",
    "Для начала посмотрим на временные рамки, в которых мы работаем с данными.\n",
    "\n",
    "Переведите признак pickup_datetime в тип данных datetime с форматом год-месяц-день час:минута:секунда (в функции pd.to_datetime() параметр format='%Y-%m-%d %H:%M:%S'). \n",
    "\n",
    "Определите временные рамки (без учета времени), за которые представлены данные."
   ]
  },
  {
   "cell_type": "code",
   "execution_count": 4,
   "metadata": {},
   "outputs": [
    {
     "name": "stdout",
     "output_type": "stream",
     "text": [
      "2016-01-01 00:00:17  -  2016-06-30 23:59:39\n"
     ]
    }
   ],
   "source": [
    "df = taxi_data.copy()\n",
    "df.pickup_datetime = pd.to_datetime(df.pickup_datetime, format = '%Y-%m-%d %H:%M:%S')\n",
    "#df.dropoff_datetime = pd.to_datetime(df.dropoff_datatime, format = '%Y-%m-%d %H:%M:%S')\n",
    "print(min(df.pickup_datetime), ' - ', max(df.pickup_datetime))"
   ]
  },
  {
   "cell_type": "markdown",
   "metadata": {},
   "source": [
    "### Задание 2.2\n",
    "Посмотрим на пропуски. \n",
    "Сколько пропущенных значений присутствует в данных (суммарно по всем столбцам таблицы)?"
   ]
  },
  {
   "cell_type": "code",
   "execution_count": 5,
   "metadata": {},
   "outputs": [
    {
     "name": "stdout",
     "output_type": "stream",
     "text": [
      "False    1458644\n",
      "Name: id, dtype: int64\n",
      "False    1458644\n",
      "Name: vendor_id, dtype: int64\n",
      "False    1458644\n",
      "Name: pickup_datetime, dtype: int64\n",
      "False    1458644\n",
      "Name: dropoff_datetime, dtype: int64\n",
      "False    1458644\n",
      "Name: passenger_count, dtype: int64\n",
      "False    1458644\n",
      "Name: pickup_longitude, dtype: int64\n",
      "False    1458644\n",
      "Name: pickup_latitude, dtype: int64\n",
      "False    1458644\n",
      "Name: dropoff_longitude, dtype: int64\n",
      "False    1458644\n",
      "Name: dropoff_latitude, dtype: int64\n",
      "False    1458644\n",
      "Name: store_and_fwd_flag, dtype: int64\n",
      "False    1458644\n",
      "Name: trip_duration, dtype: int64\n"
     ]
    }
   ],
   "source": [
    "for i in df.columns:\n",
    "    print(df[i].isna().value_counts())"
   ]
  },
  {
   "cell_type": "markdown",
   "metadata": {},
   "source": [
    "### Задание 2.3\n",
    "Посмотрим на статистические характеристики некоторых признаков. \n",
    "\n",
    "а) Сколько уникальных таксопарков присутствует в данных?\n",
    "\n",
    "б) Каково максимальное количество пассажиров?\n",
    "\n",
    "в) Чему равна средняя и медианная длительность поездки? Ответ приведите в секундах и округлите до целого.\n",
    "\n",
    "г) Чему равно минимальное и максимальное время поездки (в секундах)?\n"
   ]
  },
  {
   "cell_type": "code",
   "execution_count": 6,
   "metadata": {},
   "outputs": [
    {
     "name": "stdout",
     "output_type": "stream",
     "text": [
      "Number of vendors 2\n",
      "Max passenger 9\n",
      "Mean trip duration 959\n",
      "Median trip duration 662.0\n",
      "Minimal trip duration 1\n",
      "Maximal trip duration 3526282\n"
     ]
    }
   ],
   "source": [
    "num_vendors = len(df.vendor_id.unique())\n",
    "max_passengers = max(df.passenger_count)\n",
    "mean_trip_duration = df.trip_duration.mean()\n",
    "median_trip_duration = df.trip_duration.median()\n",
    "min_trip_duration = min(df.trip_duration)\n",
    "max_trip_duration = max(df.trip_duration)\n",
    "\n",
    "print(\n",
    "    f'Number of vendors {num_vendors}'\n",
    "    f'\\nMax passenger {max_passengers}'\n",
    "    f'\\nMean trip duration {round(mean_trip_duration)}'\n",
    "    f'\\nMedian trip duration {median_trip_duration}'\n",
    "    f'\\nMinimal trip duration {min_trip_duration}'\n",
    "    f'\\nMaximal trip duration {max_trip_duration}'\n",
    "    )"
   ]
  },
  {
   "cell_type": "markdown",
   "metadata": {},
   "source": [
    "Займемся расширением исходного набора данных как с помощью внешних источников, так и с помощью манипуляций над имеющимися в данных признаками. \n"
   ]
  },
  {
   "cell_type": "markdown",
   "metadata": {},
   "source": [
    "### Задание 2.4\n",
    "Реализуйте функцию add_datetime_features(), которая принимает на вход таблицу с данными о поездках (DataFrame) и возвращает ту же таблицу с добавленными в нее 3 столбцами:\n",
    "* pickup_date - дата включения счетчика - начала поездки (без времени);\n",
    "* pickup_hour - час дня включения счетчика;\n",
    "* pickup_day_of_week - наименование дня недели, в который был включен счетчик.\n",
    "\n",
    "а) Сколько поездок было совершено в субботу?\n",
    "\n",
    "б) Сколько поездок в среднем совершается в день? Ответ округлите до целого"
   ]
  },
  {
   "cell_type": "code",
   "execution_count": 7,
   "metadata": {},
   "outputs": [
    {
     "name": "stdout",
     "output_type": "stream",
     "text": [
      "Mean number of trips in Saturday - 220868 \n",
      "Mean number of trips per dayy - 8015\n"
     ]
    }
   ],
   "source": [
    "def add_datetime_features(date_time):\n",
    "    pickup_date = pd.Timestamp.date(date_time)\n",
    "    pickup_hour = date_time.hour\n",
    "    pickup_day_of_week = date_time.dayofweek\n",
    "\n",
    "    return pickup_date, pickup_hour, pickup_day_of_week\n",
    "\n",
    "\n",
    "pickup_df = df.pickup_datetime.apply(add_datetime_features)\n",
    "df['pickup_date'] = pickup_df.apply(lambda x: x[0])\n",
    "df['pickup_hour'] = pickup_df.apply(lambda x: x[1])\n",
    "df['pickup_dayofweek'] = pickup_df.apply(lambda x: x[2])\n",
    "\n",
    "mean_trips_per_day = round(df.groupby('pickup_date')['id'].count().mean())\n",
    "trips_per_satur = df[df['pickup_dayofweek']==5]['pickup_dayofweek'].count()\n",
    "\n",
    "print(f'Mean number of trips in Saturday - {trips_per_satur}',\n",
    "     f'\\nMean number of trips per dayy - {mean_trips_per_day}'\n",
    "     )\n"
   ]
  },
  {
   "cell_type": "markdown",
   "metadata": {},
   "source": [
    "### Задание 2.5\n",
    "Реализуйте функцию add_holiday_features(), которая принимает на вход две таблицы: \n",
    "* таблицу с данными о поездках;\n",
    "* таблицу с данными о праздничных днях;\n",
    "\n",
    "и возвращает обновленную таблицу с данными о поездках с добавленным в нее столбцом pickup_holiday - бинарным признаком того, начата ли поездка в праздничный день или нет (1 - да, 0 - нет). \n",
    "\n",
    "Чему равна медианная длительность поездки на такси в праздничные дни? Ответ приведите в секундах, округлив до целого.\n"
   ]
  },
  {
   "cell_type": "code",
   "execution_count": 8,
   "metadata": {},
   "outputs": [
    {
     "data": {
      "text/html": [
       "<div>\n",
       "<style scoped>\n",
       "    .dataframe tbody tr th:only-of-type {\n",
       "        vertical-align: middle;\n",
       "    }\n",
       "\n",
       "    .dataframe tbody tr th {\n",
       "        vertical-align: top;\n",
       "    }\n",
       "\n",
       "    .dataframe thead th {\n",
       "        text-align: right;\n",
       "    }\n",
       "</style>\n",
       "<table border=\"1\" class=\"dataframe\">\n",
       "  <thead>\n",
       "    <tr style=\"text-align: right;\">\n",
       "      <th></th>\n",
       "      <th>id</th>\n",
       "      <th>vendor_id</th>\n",
       "      <th>pickup_datetime</th>\n",
       "      <th>dropoff_datetime</th>\n",
       "      <th>passenger_count</th>\n",
       "      <th>pickup_longitude</th>\n",
       "      <th>pickup_latitude</th>\n",
       "      <th>dropoff_longitude</th>\n",
       "      <th>dropoff_latitude</th>\n",
       "      <th>store_and_fwd_flag</th>\n",
       "      <th>trip_duration</th>\n",
       "      <th>pickup_date</th>\n",
       "      <th>pickup_hour</th>\n",
       "      <th>pickup_dayofweek</th>\n",
       "    </tr>\n",
       "  </thead>\n",
       "  <tbody>\n",
       "    <tr>\n",
       "      <th>0</th>\n",
       "      <td>id2875421</td>\n",
       "      <td>2</td>\n",
       "      <td>2016-03-14 17:24:55</td>\n",
       "      <td>2016-03-14 17:32:30</td>\n",
       "      <td>1</td>\n",
       "      <td>-73.982155</td>\n",
       "      <td>40.767937</td>\n",
       "      <td>-73.964630</td>\n",
       "      <td>40.765602</td>\n",
       "      <td>N</td>\n",
       "      <td>455</td>\n",
       "      <td>2016-03-14</td>\n",
       "      <td>17</td>\n",
       "      <td>0</td>\n",
       "    </tr>\n",
       "    <tr>\n",
       "      <th>1</th>\n",
       "      <td>id2377394</td>\n",
       "      <td>1</td>\n",
       "      <td>2016-06-12 00:43:35</td>\n",
       "      <td>2016-06-12 00:54:38</td>\n",
       "      <td>1</td>\n",
       "      <td>-73.980415</td>\n",
       "      <td>40.738564</td>\n",
       "      <td>-73.999481</td>\n",
       "      <td>40.731152</td>\n",
       "      <td>N</td>\n",
       "      <td>663</td>\n",
       "      <td>2016-06-12</td>\n",
       "      <td>0</td>\n",
       "      <td>6</td>\n",
       "    </tr>\n",
       "    <tr>\n",
       "      <th>2</th>\n",
       "      <td>id3858529</td>\n",
       "      <td>2</td>\n",
       "      <td>2016-01-19 11:35:24</td>\n",
       "      <td>2016-01-19 12:10:48</td>\n",
       "      <td>1</td>\n",
       "      <td>-73.979027</td>\n",
       "      <td>40.763939</td>\n",
       "      <td>-74.005333</td>\n",
       "      <td>40.710087</td>\n",
       "      <td>N</td>\n",
       "      <td>2124</td>\n",
       "      <td>2016-01-19</td>\n",
       "      <td>11</td>\n",
       "      <td>1</td>\n",
       "    </tr>\n",
       "    <tr>\n",
       "      <th>3</th>\n",
       "      <td>id3504673</td>\n",
       "      <td>2</td>\n",
       "      <td>2016-04-06 19:32:31</td>\n",
       "      <td>2016-04-06 19:39:40</td>\n",
       "      <td>1</td>\n",
       "      <td>-74.010040</td>\n",
       "      <td>40.719971</td>\n",
       "      <td>-74.012268</td>\n",
       "      <td>40.706718</td>\n",
       "      <td>N</td>\n",
       "      <td>429</td>\n",
       "      <td>2016-04-06</td>\n",
       "      <td>19</td>\n",
       "      <td>2</td>\n",
       "    </tr>\n",
       "    <tr>\n",
       "      <th>4</th>\n",
       "      <td>id2181028</td>\n",
       "      <td>2</td>\n",
       "      <td>2016-03-26 13:30:55</td>\n",
       "      <td>2016-03-26 13:38:10</td>\n",
       "      <td>1</td>\n",
       "      <td>-73.973053</td>\n",
       "      <td>40.793209</td>\n",
       "      <td>-73.972923</td>\n",
       "      <td>40.782520</td>\n",
       "      <td>N</td>\n",
       "      <td>435</td>\n",
       "      <td>2016-03-26</td>\n",
       "      <td>13</td>\n",
       "      <td>5</td>\n",
       "    </tr>\n",
       "  </tbody>\n",
       "</table>\n",
       "</div>"
      ],
      "text/plain": [
       "          id  vendor_id     pickup_datetime     dropoff_datetime  \\\n",
       "0  id2875421          2 2016-03-14 17:24:55  2016-03-14 17:32:30   \n",
       "1  id2377394          1 2016-06-12 00:43:35  2016-06-12 00:54:38   \n",
       "2  id3858529          2 2016-01-19 11:35:24  2016-01-19 12:10:48   \n",
       "3  id3504673          2 2016-04-06 19:32:31  2016-04-06 19:39:40   \n",
       "4  id2181028          2 2016-03-26 13:30:55  2016-03-26 13:38:10   \n",
       "\n",
       "   passenger_count  pickup_longitude  pickup_latitude  dropoff_longitude  \\\n",
       "0                1        -73.982155        40.767937         -73.964630   \n",
       "1                1        -73.980415        40.738564         -73.999481   \n",
       "2                1        -73.979027        40.763939         -74.005333   \n",
       "3                1        -74.010040        40.719971         -74.012268   \n",
       "4                1        -73.973053        40.793209         -73.972923   \n",
       "\n",
       "   dropoff_latitude store_and_fwd_flag  trip_duration pickup_date  \\\n",
       "0         40.765602                  N            455  2016-03-14   \n",
       "1         40.731152                  N            663  2016-06-12   \n",
       "2         40.710087                  N           2124  2016-01-19   \n",
       "3         40.706718                  N            429  2016-04-06   \n",
       "4         40.782520                  N            435  2016-03-26   \n",
       "\n",
       "   pickup_hour  pickup_dayofweek  \n",
       "0           17                 0  \n",
       "1            0                 6  \n",
       "2           11                 1  \n",
       "3           19                 2  \n",
       "4           13                 5  "
      ]
     },
     "execution_count": 8,
     "metadata": {},
     "output_type": "execute_result"
    }
   ],
   "source": [
    "df.head()"
   ]
  },
  {
   "cell_type": "code",
   "execution_count": 9,
   "metadata": {},
   "outputs": [],
   "source": [
    "holiday_data = pd.read_csv('/home/gor/Downloads/holiday_data.zip', compression='zip', sep=';')\n",
    "holiday_data.date = pd.to_datetime(holiday_data.date)\n",
    "holiday_list = [i.date() for i in holiday_data.date]\n",
    "\n",
    "df['pickup_holiday'] = df.pickup_date.apply(lambda x: 1 if x in holiday_list else 0)"
   ]
  },
  {
   "cell_type": "code",
   "execution_count": 10,
   "metadata": {},
   "outputs": [
    {
     "name": "stdout",
     "output_type": "stream",
     "text": [
      "Median trip duration in holidays 585 seconds\n"
     ]
    }
   ],
   "source": [
    "total_duration_in_holid = round(df[df.pickup_holiday==1]['trip_duration'].median())\n",
    "print(f'Median trip duration in holidays {total_duration_in_holid} seconds')"
   ]
  },
  {
   "cell_type": "markdown",
   "metadata": {},
   "source": [
    "### Задание 2.6\n",
    "Реализуйте функцию add_osrm_features(), которая принимает на вход две таблицы:\n",
    "* таблицу с данными о поездках;\n",
    "* таблицу с данными из OSRM;\n",
    "\n",
    "и возвращает обновленную таблицу с данными о поездках с добавленными в нее 3 столбцами:\n",
    "* total_distance;\n",
    "* total_travel_time;\n",
    "* number_of_steps.\n",
    "\n",
    "а) Чему равна разница (в секундах) между медианной длительностью поездки в данных и медианной длительностью поездки, полученной из OSRM? \n",
    "\n",
    "В результате объединения таблиц у вас должны были получиться пропуски в столбцах с информацией из OSRM API. Это связано с тем, что для некоторых поездок не удалось выгрузить данные из веб источника. \n",
    "\n",
    "б) Сколько пропусков содержится в столбцах с информацией из OSRM API после объединения таблиц?"
   ]
  },
  {
   "cell_type": "code",
   "execution_count": 11,
   "metadata": {},
   "outputs": [],
   "source": [
    "osrm_data = pd.read_csv('/home/gor/Downloads/osrm_data_train.zip', compression='zip')\n",
    "\n",
    "df = df.merge(\n",
    "    osrm_data[['id', 'total_distance', 'total_travel_time', 'number_of_steps']],\n",
    "    how='left',\n",
    "    on='id'\n",
    "    )"
   ]
  },
  {
   "cell_type": "code",
   "execution_count": 12,
   "metadata": {},
   "outputs": [
    {
     "name": "stdout",
     "output_type": "stream",
     "text": [
      "Median difference of duration between reality and OSRM - 372 seconds\n"
     ]
    }
   ],
   "source": [
    "diff_duration = df.trip_duration.median() - df.total_travel_time.median()\n",
    "print(f'Median difference of duration between reality and OSRM - {round(diff_duration)} seconds')"
   ]
  },
  {
   "cell_type": "code",
   "execution_count": 13,
   "metadata": {},
   "outputs": [],
   "source": [
    "def get_haversine_distance(coord):\n",
    "    # переводим углы в радианы\n",
    "    lat1, lng1, lat2, lng2 = map(np.radians, (coord))\n",
    "    # радиус земли в километрах\n",
    "    EARTH_RADIUS = 6371 \n",
    "    # считаем кратчайшее расстояние h по формуле Хаверсина\n",
    "    lat_delta = lat2 - lat1\n",
    "    lng_delta = lng2 - lng1\n",
    "    d = np.sin(lat_delta * 0.5) ** 2 + np.cos(lat1) * np.cos(lat2) * np.sin(lng_delta * 0.5) ** 2\n",
    "    h = 2 * EARTH_RADIUS * np.arcsin(np.sqrt(d))\n",
    "    return h\n",
    "\n",
    "def get_angle_direction(coord):\n",
    "    # переводим углы в радианы\n",
    "    lat1, lng1, lat2, lng2 = map(np.radians, (coord))\n",
    "    # считаем угол направления движения alpha по формуле угла пеленга\n",
    "    lng_delta_rad = lng2 - lng1\n",
    "    y = np.sin(lng_delta_rad) * np.cos(lat2)\n",
    "    x = np.cos(lat1) * np.sin(lat2) - np.sin(lat1) * np.cos(lat2) * np.cos(lng_delta_rad)\n",
    "    alpha = np.degrees(np.arctan2(y, x))\n",
    "    return alpha"
   ]
  },
  {
   "cell_type": "markdown",
   "metadata": {
    "tags": []
   },
   "source": [
    "### Задание 2.7.\n",
    "Реализуйте функцию add_geographical_features(), которая принимает на вход таблицу с данными о поездках и возвращает обновленную таблицу с добавленными в нее 2 столбцами:\n",
    "* haversine_distance - расстояние Хаверсина между точкой, в которой был включен счетчик, и точкой, в которой счетчик был выключен;\n",
    "* direction - направление движения из точки, в которой был включен счетчик, в точку, в которой счетчик был выключен.\n",
    "\n",
    "Чему равно медианное расстояние Хаверсина поездок (в киллометрах)? Ответ округлите до сотых.\n"
   ]
  },
  {
   "cell_type": "code",
   "execution_count": 14,
   "metadata": {},
   "outputs": [
    {
     "name": "stdout",
     "output_type": "stream",
     "text": [
      "Median haversine distance is 2.09 kilometers\n"
     ]
    }
   ],
   "source": [
    "geogr_data = df[['pickup_latitude', 'pickup_longitude', 'dropoff_latitude', 'dropoff_longitude']]\n",
    "geogr_data = geogr_data.to_numpy()\n",
    "new_dist = [get_haversine_distance(i) for i in geogr_data]\n",
    "angle_direction = [get_angle_direction(i) for i in geogr_data]\n",
    "\n",
    "\n",
    "df['haversine_distance'] = new_dist\n",
    "df['direction'] = angle_direction\n",
    "\n",
    "print(f'Median haversine distance is {round(df.haversine_distance.median(), 2)} kilometers')"
   ]
  },
  {
   "cell_type": "markdown",
   "metadata": {},
   "source": [
    "### Задание 2.8.\n",
    "Реализуйте функцию add_cluster_features(), которая принимает на вход таблицу с данными о поездках и обученный алгоритм кластеризации. Функция должна возвращать обновленную таблицу с добавленными в нее столбцом geo_cluster - географический кластер, к которому относится поездка.\n",
    "\n",
    "Сколько поездок содержится в наименьшем по размеру географическом кластере?\n"
   ]
  },
  {
   "cell_type": "code",
   "execution_count": 15,
   "metadata": {},
   "outputs": [],
   "source": [
    "# создаем обучающую выборку из географических координат всех точек\n",
    "coords = np.hstack((taxi_data[['pickup_latitude', 'pickup_longitude']],\n",
    "                    taxi_data[['dropoff_latitude', 'dropoff_longitude']]))\n",
    "# обучаем алгоритм кластеризации\n",
    "kmeans = cluster.KMeans(n_clusters=10, random_state=42)\n",
    "clusters = kmeans.fit(coords)\n",
    "\n",
    "labels = clusters.labels_\n",
    "df['geo_cluster'] = labels"
   ]
  },
  {
   "cell_type": "code",
   "execution_count": 16,
   "metadata": {},
   "outputs": [
    {
     "data": {
      "text/plain": [
       "2"
      ]
     },
     "execution_count": 16,
     "metadata": {},
     "output_type": "execute_result"
    }
   ],
   "source": [
    "min(df.geo_cluster.value_counts())"
   ]
  },
  {
   "cell_type": "markdown",
   "metadata": {},
   "source": [
    "### Задание 2.9.\n",
    "Реализуйте функцию add_weather_features(), которая принимает на вход две таблицы:\n",
    "* таблицу с данными о поездках;\n",
    "* таблицу с данными о погодных условиях на каждый час;\n",
    "\n",
    "и возвращает обновленную таблицу с данными о поездках с добавленными в нее 5 столбцами:\n",
    "* temperature - температура;\n",
    "* visibility - видимость;\n",
    "* wind speed - средняя скорость ветра;\n",
    "* precip - количество осадков;\n",
    "* events - погодные явления.\n",
    "\n",
    "а) Сколько поездок было совершено в снежную погоду?\n",
    "\n",
    "В результате объединения у вас должны получиться записи, для которых в столбцах temperature, visibility, wind speed, precip, и events будут пропуски. Это связано с тем, что в таблице с данными о погодных условиях отсутствуют измерения для некоторых моментов времени, в которых включался счетчик поездки. \n",
    "\n",
    "б) Сколько процентов от общего количества наблюдений в таблице с данными о поездках занимают пропуски в столбцах с погодными условиями? Ответ приведите с точностью до сотых процента.\n"
   ]
  },
  {
   "cell_type": "code",
   "execution_count": 17,
   "metadata": {},
   "outputs": [],
   "source": [
    "weather_data = pd.read_csv('/home/gor/Downloads/weather_data.zip', compression='zip')\n",
    "\n",
    "weather_data.date = pd.to_datetime(weather_data.date)\n",
    "weather_data.date = weather_data.date.apply(lambda x: x.date())"
   ]
  },
  {
   "cell_type": "code",
   "execution_count": 18,
   "metadata": {},
   "outputs": [],
   "source": [
    "df = df.merge(\n",
    "    weather_data[['temperature', 'visibility', 'wind speed', 'precip', 'events','date','hour']],\n",
    "    how = 'left',\n",
    "    left_on = ['pickup_date', 'pickup_hour'],\n",
    "    right_on = ['date', 'hour']\n",
    ")"
   ]
  },
  {
   "cell_type": "code",
   "execution_count": 25,
   "metadata": {},
   "outputs": [
    {
     "name": "stdout",
     "output_type": "stream",
     "text": [
      "13126\n",
      "False    99.175124\n",
      "True      0.824876\n",
      "Name: events, dtype: float64\n"
     ]
    }
   ],
   "source": [
    "snow_w = df[df.events=='Snow']['id'].count()\n",
    "empty_weather = df.events.isna().value_counts(normalize=True)\n",
    "\n",
    "print(snow_w)\n",
    "print(empty_weather*100)"
   ]
  },
  {
   "cell_type": "markdown",
   "metadata": {},
   "source": [
    "## Задание 2.10.\n",
    "Реализуйте функцию fill_null_weather_data(), которая принимает на вход которая принимает на вход таблицу с данными о поездках. Функция должна заполнять пропущенные значения в столбцах.\n",
    "\n",
    "Пропуски в столбцах с погодными условиями -  temperature, visibility, wind speed, precip заполните медианным значением температуры, влажности, скорости ветра и видимости в зависимости от даты начала поездки. Для этого сгруппируйте данные по столбцу pickup_date и рассчитайте медиану в каждой группе, после чего с помощью комбинации методов transform() и fillna() заполните пропуски. \n",
    "Пропуски в столбце events заполните строкой 'None' - символом отсутствия погодных явлений (снега/дождя/тумана). \n",
    "\n",
    "Пропуски в столбцах с информацией из OSRM API - total_distance, total_travel_time и number_of_steps заполните медианным значением по столбцам. \n",
    "\n",
    "Чему равна медиана в столбце temperature после заполнения пропусков? Ответ округлите до десятых.\n"
   ]
  },
  {
   "cell_type": "code",
   "execution_count": 20,
   "metadata": {},
   "outputs": [],
   "source": [
    "# ваш код здесь"
   ]
  },
  {
   "cell_type": "markdown",
   "metadata": {},
   "source": [
    "В завершение первой части найдем очевидные выбросы в целевой переменной - длительности поездки. \n",
    "\n",
    "Проще всего найти слишком продолжительные поездки. Давайте условимся, что выбросами будут считаться поездки, длительность которых превышает 24 часа. \n",
    "\n",
    "Чуть сложнее с анализом поездок, длительность которых слишком мала. Потому что к ним относятся действительно реальные поездки на короткие расстояния, поездки, которые были отменены через секунду после того как включился счетчик, а также “телепортации” - перемещение на большие расстояния за считанные секунды. \n",
    "Условимся, что мы будем считать выбросами только последнюю группу. Как же нам их обнаружить наиболее простым способом?\n",
    "\n",
    "Можно воспользоваться информацией о кратчайшем расстоянии, которое проезжает такси. Вычислить среднюю скорость автомобиля на кратчайшем пути следующим образом: \n",
    "$$avg\\_speed= \\frac{total\\_distance}{1000*trip\\_duration}*3600$$\n",
    "Если мы построим диаграмму рассеяния средней скорости движения автомобилей, мы увидим следующую картину:\n"
   ]
  },
  {
   "cell_type": "code",
   "execution_count": 21,
   "metadata": {},
   "outputs": [
    {
     "ename": "KeyError",
     "evalue": "'total_distance'",
     "output_type": "error",
     "traceback": [
      "\u001b[0;31m---------------------------------------------------------------------------\u001b[0m",
      "\u001b[0;31mKeyError\u001b[0m                                  Traceback (most recent call last)",
      "File \u001b[0;32m~/Documents/skillfactory_projects/DS/lib/python3.10/site-packages/pandas/core/indexes/base.py:3803\u001b[0m, in \u001b[0;36mIndex.get_loc\u001b[0;34m(self, key, method, tolerance)\u001b[0m\n\u001b[1;32m   3802\u001b[0m \u001b[39mtry\u001b[39;00m:\n\u001b[0;32m-> 3803\u001b[0m     \u001b[39mreturn\u001b[39;00m \u001b[39mself\u001b[39;49m\u001b[39m.\u001b[39;49m_engine\u001b[39m.\u001b[39;49mget_loc(casted_key)\n\u001b[1;32m   3804\u001b[0m \u001b[39mexcept\u001b[39;00m \u001b[39mKeyError\u001b[39;00m \u001b[39mas\u001b[39;00m err:\n",
      "File \u001b[0;32m~/Documents/skillfactory_projects/DS/lib/python3.10/site-packages/pandas/_libs/index.pyx:138\u001b[0m, in \u001b[0;36mpandas._libs.index.IndexEngine.get_loc\u001b[0;34m()\u001b[0m\n",
      "File \u001b[0;32m~/Documents/skillfactory_projects/DS/lib/python3.10/site-packages/pandas/_libs/index.pyx:165\u001b[0m, in \u001b[0;36mpandas._libs.index.IndexEngine.get_loc\u001b[0;34m()\u001b[0m\n",
      "File \u001b[0;32mpandas/_libs/hashtable_class_helper.pxi:5745\u001b[0m, in \u001b[0;36mpandas._libs.hashtable.PyObjectHashTable.get_item\u001b[0;34m()\u001b[0m\n",
      "File \u001b[0;32mpandas/_libs/hashtable_class_helper.pxi:5753\u001b[0m, in \u001b[0;36mpandas._libs.hashtable.PyObjectHashTable.get_item\u001b[0;34m()\u001b[0m\n",
      "\u001b[0;31mKeyError\u001b[0m: 'total_distance'",
      "\nThe above exception was the direct cause of the following exception:\n",
      "\u001b[0;31mKeyError\u001b[0m                                  Traceback (most recent call last)",
      "Cell \u001b[0;32mIn [21], line 1\u001b[0m\n\u001b[0;32m----> 1\u001b[0m avg_speed \u001b[39m=\u001b[39m taxi_data[\u001b[39m'\u001b[39;49m\u001b[39mtotal_distance\u001b[39;49m\u001b[39m'\u001b[39;49m] \u001b[39m/\u001b[39m taxi_data[\u001b[39m'\u001b[39m\u001b[39mtrip_duration\u001b[39m\u001b[39m'\u001b[39m] \u001b[39m*\u001b[39m \u001b[39m3.6\u001b[39m\n\u001b[1;32m      2\u001b[0m fig, ax \u001b[39m=\u001b[39m plt\u001b[39m.\u001b[39msubplots(figsize\u001b[39m=\u001b[39m(\u001b[39m10\u001b[39m, \u001b[39m5\u001b[39m))\n\u001b[1;32m      3\u001b[0m sns\u001b[39m.\u001b[39mscatterplot(x\u001b[39m=\u001b[39mavg_speed\u001b[39m.\u001b[39mindex, y\u001b[39m=\u001b[39mavg_speed, ax\u001b[39m=\u001b[39max)\n",
      "File \u001b[0;32m~/Documents/skillfactory_projects/DS/lib/python3.10/site-packages/pandas/core/frame.py:3804\u001b[0m, in \u001b[0;36mDataFrame.__getitem__\u001b[0;34m(self, key)\u001b[0m\n\u001b[1;32m   3802\u001b[0m \u001b[39mif\u001b[39;00m \u001b[39mself\u001b[39m\u001b[39m.\u001b[39mcolumns\u001b[39m.\u001b[39mnlevels \u001b[39m>\u001b[39m \u001b[39m1\u001b[39m:\n\u001b[1;32m   3803\u001b[0m     \u001b[39mreturn\u001b[39;00m \u001b[39mself\u001b[39m\u001b[39m.\u001b[39m_getitem_multilevel(key)\n\u001b[0;32m-> 3804\u001b[0m indexer \u001b[39m=\u001b[39m \u001b[39mself\u001b[39;49m\u001b[39m.\u001b[39;49mcolumns\u001b[39m.\u001b[39;49mget_loc(key)\n\u001b[1;32m   3805\u001b[0m \u001b[39mif\u001b[39;00m is_integer(indexer):\n\u001b[1;32m   3806\u001b[0m     indexer \u001b[39m=\u001b[39m [indexer]\n",
      "File \u001b[0;32m~/Documents/skillfactory_projects/DS/lib/python3.10/site-packages/pandas/core/indexes/base.py:3805\u001b[0m, in \u001b[0;36mIndex.get_loc\u001b[0;34m(self, key, method, tolerance)\u001b[0m\n\u001b[1;32m   3803\u001b[0m     \u001b[39mreturn\u001b[39;00m \u001b[39mself\u001b[39m\u001b[39m.\u001b[39m_engine\u001b[39m.\u001b[39mget_loc(casted_key)\n\u001b[1;32m   3804\u001b[0m \u001b[39mexcept\u001b[39;00m \u001b[39mKeyError\u001b[39;00m \u001b[39mas\u001b[39;00m err:\n\u001b[0;32m-> 3805\u001b[0m     \u001b[39mraise\u001b[39;00m \u001b[39mKeyError\u001b[39;00m(key) \u001b[39mfrom\u001b[39;00m \u001b[39merr\u001b[39;00m\n\u001b[1;32m   3806\u001b[0m \u001b[39mexcept\u001b[39;00m \u001b[39mTypeError\u001b[39;00m:\n\u001b[1;32m   3807\u001b[0m     \u001b[39m# If we have a listlike key, _check_indexing_error will raise\u001b[39;00m\n\u001b[1;32m   3808\u001b[0m     \u001b[39m#  InvalidIndexError. Otherwise we fall through and re-raise\u001b[39;00m\n\u001b[1;32m   3809\u001b[0m     \u001b[39m#  the TypeError.\u001b[39;00m\n\u001b[1;32m   3810\u001b[0m     \u001b[39mself\u001b[39m\u001b[39m.\u001b[39m_check_indexing_error(key)\n",
      "\u001b[0;31mKeyError\u001b[0m: 'total_distance'"
     ]
    }
   ],
   "source": [
    "avg_speed = taxi_data['total_distance'] / taxi_data['trip_duration'] * 3.6\n",
    "fig, ax = plt.subplots(figsize=(10, 5))\n",
    "sns.scatterplot(x=avg_speed.index, y=avg_speed, ax=ax)\n",
    "ax.set_xlabel('Index')\n",
    "ax.set_ylabel('Average speed');"
   ]
  },
  {
   "cell_type": "markdown",
   "metadata": {},
   "source": [
    "Как раз отсюда мы видим, что у нас есть “поездки-телепортации”, для которых средняя скорость более 1000 км/ч. Даже есть такая, средняя скорость которой составляла более 12000 км/ч! \n",
    "\n",
    "Давайте условимся, что предельная средняя скорость, которую могут развивать таксисты будет 300 км/ч. \n"
   ]
  },
  {
   "cell_type": "markdown",
   "metadata": {
    "tags": []
   },
   "source": [
    "### Задание 2.11.\n",
    "Найдите поездки, длительность которых превышает 24 часа. И удалите их из набора данных.\n",
    "\n",
    "а) Сколько выбросов по признаку длительности поездки вам удалось найти?\n",
    "\n",
    "Найдите поездки, средняя скорость которых по кратчайшему пути превышает 300 км/ч и удалите их из данных. \n",
    "\n",
    "б) Сколько выбросов по признаку скорости вам удалось найти?"
   ]
  },
  {
   "cell_type": "code",
   "execution_count": null,
   "metadata": {},
   "outputs": [],
   "source": [
    "# ваш код здесь"
   ]
  },
  {
   "cell_type": "markdown",
   "metadata": {
    "tags": []
   },
   "source": [
    "## 3. Разведывательный анализ данных (EDA)"
   ]
  },
  {
   "cell_type": "markdown",
   "metadata": {},
   "source": [
    "В этой части нашего проекта мы с вами:\n",
    "* Исследуем сформированный набор данных; \n",
    "* Попробуем найти закономерности, позволяющие сформулировать предварительные гипотезы относительно того, какие факторы являются решающими в определении длительности поездки;\n",
    "* Дополним наш анализ визуализациями, иллюстрирующими; исследование. Постарайтесь оформлять диаграммы с душой, а не «для галочки»: навыки визуализации полученных выводов обязательно пригодятся вам в будущем.\n"
   ]
  },
  {
   "cell_type": "markdown",
   "metadata": {},
   "source": [
    "Начинаем с целевого признака. Забегая вперед, скажем, что основной метрикой качества решения поставленной задачи будет RMSLE - Root Mean Squared Log Error, которая вычисляется на основе целевой переменной в логарифмическом масштабе. В таком случае целесообразно сразу логарифмировать признак длительности поездки и рассматривать при анализе логарифм в качестве целевого признака:\n",
    "$$trip\\_duration\\_log = log(trip\\_duration+1),$$\n",
    "где под символом log подразумевается натуральный логарифм.\n"
   ]
  },
  {
   "cell_type": "code",
   "execution_count": null,
   "metadata": {},
   "outputs": [],
   "source": [
    "taxi_data['trip_duration_log'] = np.log(taxi_data['trip_duration']+1)"
   ]
  },
  {
   "cell_type": "markdown",
   "metadata": {},
   "source": [
    "### Задание 3.1.\n",
    "Постройте гистограмму и коробчатую диаграмму длительности поездок в логарифмическом масштабе (trip_duration_log). \n",
    "Исходя из визуализации, сделайте предположение, является ли полученное распределение нормальным? \n",
    "Проверьте свою гипотезу с помощью теста Д’Агостино при уровне значимости $\\alpha=0.05$. \n",
    "\n",
    "а) Чему равен вычисленный p-value? Ответ округлите до сотых.\n",
    "\n",
    "б) Является ли распределение длительности поездок в логарифмическом масштабе нормальным?"
   ]
  },
  {
   "cell_type": "code",
   "execution_count": null,
   "metadata": {
    "_uuid": "4cea6d1f4372850e6c5692d7be7ca1cee3bdb42e",
    "tags": []
   },
   "outputs": [],
   "source": [
    "# ваш код здесь"
   ]
  },
  {
   "cell_type": "markdown",
   "metadata": {},
   "source": [
    "### Задание 3.2.\n",
    "Постройте визуализацию, которая позволит сравнить распределение длительности поездки в логарифмическом масштабе (trip_duration_log) в зависимости от таксопарка (vendor_id). \n",
    "\n",
    "Сравните два распределения между собой."
   ]
  },
  {
   "cell_type": "code",
   "execution_count": null,
   "metadata": {},
   "outputs": [],
   "source": [
    "# ваш код здесь"
   ]
  },
  {
   "cell_type": "markdown",
   "metadata": {},
   "source": [
    "### Задание 3.3.\n",
    "Постройте визуализацию, которая позволит сравнить распределение длительности поездки в логарифмическом масштабе (trip_duration_log) в зависимости от признака отправки сообщения поставщику (store_and_fwd_flag). \n",
    "\n",
    "Сравните два распределения между собой."
   ]
  },
  {
   "cell_type": "code",
   "execution_count": null,
   "metadata": {},
   "outputs": [],
   "source": [
    "# ваш код здесь"
   ]
  },
  {
   "cell_type": "markdown",
   "metadata": {},
   "source": [
    "### Задание 3.4.\n",
    "Постройте две визуализации:\n",
    "* Распределение количества поездок в зависимости от часа дня;\n",
    "* Зависимость медианной длительности поездки от часа дня.\n",
    "\n",
    "На основе построенных графиков ответьте на следующие вопросы:\n",
    "\n",
    "а) В какое время суток такси заказывают реже всего?\n",
    "\n",
    "б) В какое время суток наблюдается пик медианной длительности поездок?"
   ]
  },
  {
   "cell_type": "code",
   "execution_count": null,
   "metadata": {},
   "outputs": [],
   "source": [
    "# ваш код здесь"
   ]
  },
  {
   "cell_type": "markdown",
   "metadata": {},
   "source": [
    "### Задание 3.5.\n",
    "Постройте две визуализации:\n",
    "* Распределение количества поездок в зависимости от дня недели;\n",
    "*  Зависимость медианной длительности поездки от дня недели.\n",
    "\n",
    "На основе построенных графиков ответьте на следующие вопросы:\n",
    "а) В какой день недели совершается больше всего поездок?\n",
    "б) В какой день недели медианная длительность поездок наименьшая?\n"
   ]
  },
  {
   "cell_type": "code",
   "execution_count": null,
   "metadata": {},
   "outputs": [],
   "source": [
    "# ваш код здесь"
   ]
  },
  {
   "cell_type": "markdown",
   "metadata": {},
   "source": [
    "### Задание 3.6.\n",
    "Посмотрим на обе временные характеристики одновременно. \n",
    "\n",
    "Постройте сводную таблицу, по строкам которой отложены часы (pickup_hour), по столбцам - дни недели (pickup_day_of_week), а в ячейках - медианная длительность поездки (trip_duration). \n",
    "\n",
    "Визуализируйте полученную сводную таблицу с помощью тепловой карты (рекомендуемая палитра - coolwarm)."
   ]
  },
  {
   "cell_type": "code",
   "execution_count": null,
   "metadata": {},
   "outputs": [],
   "source": [
    "# ваш код здесь"
   ]
  },
  {
   "cell_type": "markdown",
   "metadata": {
    "tags": []
   },
   "source": [
    "### Задание 3.7.\n",
    "Постройте две диаграммы рассеяния (scatter-диаграммы):\n",
    "* первая должна иллюстрировать географическое расположение точек начала поездок (pickup_longitude, pickup_latitude) \n",
    "* вторая должна географическое расположение точек завершения поездок (dropoff_longitude, dropoff_latitude).\n",
    "\n",
    "Для этого на диаграммах по оси абсцисс отложите широту (longitude), а по оси ординат - долготу (latitude). \n",
    "Включите в визуализацию только те точки, которые находятся в пределах Нью-Йорка - добавьте следующие ограничения на границы осей абсцисс и ординат:\n",
    " \n",
    "city_long_border = (-74.03, -73.75)\n",
    "\n",
    "city_lat_border = (40.63, 40.85)\n",
    "\n",
    "Добавьте на диаграммы расцветку по десяти географическим кластерам (geo_cluster), которые мы сгенерировали ранее. \n",
    "\n",
    "**Рекомендация:** для наглядности уменьшите размер точек на диаграмме рассеяния.  \n"
   ]
  },
  {
   "cell_type": "code",
   "execution_count": null,
   "metadata": {},
   "outputs": [],
   "source": [
    "city_long_border = (-74.03, -73.75)\n",
    "city_lat_border = (40.63, 40.85)\n",
    "\n",
    "# ваш код здесь"
   ]
  },
  {
   "cell_type": "markdown",
   "metadata": {},
   "source": [
    "## 4. Отбор и преобразование признаков"
   ]
  },
  {
   "cell_type": "markdown",
   "metadata": {},
   "source": [
    "Перед тем как перейти к построению модели, осталось сделать ещё несколько шагов.\n",
    "* Следует помнить, что многие алгоритмы машинного обучения не могут обрабатывать категориальные признаки в их обычном виде. Поэтому нам необходимо их закодировать;\n",
    "* Надо отобрать признаки, которые мы будем использовать для обучения модели;\n",
    "*  Необходимо масштабировать и трансформировать некоторые признаки для того, чтобы улучшить сходимость моделей, в основе которых лежат численные методы.\n"
   ]
  },
  {
   "cell_type": "code",
   "execution_count": null,
   "metadata": {},
   "outputs": [],
   "source": [
    "print('Shape of data: {}'.format(taxi_data.shape))\n",
    "print('Columns: {}'.format(taxi_data.columns))"
   ]
  },
  {
   "cell_type": "markdown",
   "metadata": {},
   "source": [
    "Для удобства работы сделаем копию исходной таблицы с поездками:"
   ]
  },
  {
   "cell_type": "code",
   "execution_count": null,
   "metadata": {},
   "outputs": [],
   "source": [
    "train_data = taxi_data.copy()\n",
    "train_data.head()"
   ]
  },
  {
   "cell_type": "markdown",
   "metadata": {},
   "source": [
    "## Задание 4.1.\n",
    "Сразу позаботимся об очевидных неинформативных и избыточных признаках. \n",
    "\n",
    "а) Какой из признаков является уникальным для каждой поездки и не несет полезной информации в определении ее продолжительности?\n",
    "\n",
    "б) Утечка данных (data leak) - это…\n",
    "\n",
    "в) Подумайте, наличие какого из признаков в обучающем наборе данных создает утечку данных?\n",
    "\n",
    "г) Исключите выбранные в пунктах а) и в) признаки из исходной таблицы с данными. Сколько столбцов в таблице у вас осталось?\n"
   ]
  },
  {
   "cell_type": "code",
   "execution_count": null,
   "metadata": {},
   "outputs": [],
   "source": [
    "# ваш код здесь"
   ]
  },
  {
   "cell_type": "markdown",
   "metadata": {},
   "source": [
    "Ранее мы извлекли всю необходимую для нас информацию из даты начала поездки, теперь мы можем избавиться от этих признаков, так как они нам больше не понадобятся:\n"
   ]
  },
  {
   "cell_type": "code",
   "execution_count": null,
   "metadata": {},
   "outputs": [],
   "source": [
    "drop_columns = ['pickup_datetime', 'pickup_date']\n",
    "train_data = train_data.drop(drop_columns, axis=1)\n",
    "print('Shape of data:  {}'.format(train_data.shape))"
   ]
  },
  {
   "cell_type": "markdown",
   "metadata": {},
   "source": [
    "### Задание 4.2.\n",
    "Закодируйте признак vendor_id в таблице train_data таким образом, чтобы он был равен 0, если идентификатор таксопарка равен 0, и 1 в противном случае.\n",
    "\n",
    "Закодируйте признак store_and_fwd_flag в таблице train_data таким образом, чтобы он был равен 0, если флаг выставлен в значение \"N\", и 0 в противном случае.\n",
    "\n",
    "а) Рассчитайте среднее по закодированному столбцу vendor_id. Ответ приведите с точностью до сотых.\n",
    "\n",
    "б) Рассчитайте среднее по закодированному столбцу store_and_fwd_flag. Ответ приведите с точностью до тысячных.\n",
    "\n"
   ]
  },
  {
   "cell_type": "code",
   "execution_count": null,
   "metadata": {},
   "outputs": [],
   "source": [
    "# ваш код здесь"
   ]
  },
  {
   "cell_type": "markdown",
   "metadata": {},
   "source": [
    "### Задание 4.3.\n",
    "Создайте таблицу data_onehot из закодированных однократным кодированием признаков pickup_day_of_week, pickup_dropoff_cluster и events в таблице train_data с помощью OneHotEndoder() из библиотеки sklearn. Параметр drop выставите в значение 'first', чтобы удалять первый бинарный столбец, тем самым не создавая излишних признаков.\n",
    "\n",
    "Сколько бинарных столбцов у вас получилось сгенерировать с помощью однократного кодирования?\n"
   ]
  },
  {
   "cell_type": "code",
   "execution_count": null,
   "metadata": {},
   "outputs": [],
   "source": [
    "# ваш код здесь"
   ]
  },
  {
   "cell_type": "markdown",
   "metadata": {},
   "source": [
    "Добавим полученную таблицу с закодированными признаками:"
   ]
  },
  {
   "cell_type": "code",
   "execution_count": null,
   "metadata": {},
   "outputs": [],
   "source": [
    "train_data = pd.concat(\n",
    "    [train_data.reset_index(drop=True).drop(columns_to_change, axis=1), data_onehot], \n",
    "    axis=1\n",
    ")\n",
    "print('Shape of data: {}'.format(train_data.shape))"
   ]
  },
  {
   "cell_type": "markdown",
   "metadata": {},
   "source": [
    "Теперь, когда категориальные признаки предобработаны, сформируем матрицу наблюдений X, вектор целевой переменной y и его логарифм y_log. В матрицу наблюдений войдут все столбцы из таблицы с поездками за исключением целевого признака trip_duration и его логарифмированной версии trip_duration_log:\n"
   ]
  },
  {
   "cell_type": "code",
   "execution_count": null,
   "metadata": {},
   "outputs": [],
   "source": [
    "X = train_data.drop(['trip_duration', 'trip_duration_log'], axis=1)\n",
    "y = train_data['trip_duration']\n",
    "y_log = train_data['trip_duration_log']"
   ]
  },
  {
   "cell_type": "markdown",
   "metadata": {},
   "source": [
    "Все наши модели мы будем обучать на логарифмированной версии y_log. "
   ]
  },
  {
   "cell_type": "markdown",
   "metadata": {},
   "source": [
    "Выбранный тип валидации - hold-out. Разобьем выборку на обучающую и валидационную в соотношении 67/33:"
   ]
  },
  {
   "cell_type": "code",
   "execution_count": null,
   "metadata": {},
   "outputs": [],
   "source": [
    "X_train, X_valid, y_train_log, y_valid_log = model_selection.train_test_split(\n",
    "    X, y_log, \n",
    "    test_size=0.33, \n",
    "    random_state=42\n",
    ")"
   ]
  },
  {
   "cell_type": "markdown",
   "metadata": {},
   "source": [
    "На данный момент у нас достаточно много признаков: скорее всего, не все из них будут важны. Давайте оставим лишь те, которые сильнее всего связаны с целевой переменной и точно будут вносить вклад в повышение качества модели.\n"
   ]
  },
  {
   "cell_type": "markdown",
   "metadata": {},
   "source": [
    "## Задание 4.4.\n",
    "С помощью SelectKBest отберите 25 признаков, наилучшим образом подходящих для предсказания целевой переменной в логарифмическом масштабе. Отбор реализуйте по обучающей выборке, используя параметр score_func = f_regression.\n",
    "\n",
    "Укажите признаки, которые вошли в список отобранных\n"
   ]
  },
  {
   "cell_type": "code",
   "execution_count": null,
   "metadata": {},
   "outputs": [],
   "source": [
    "# ваш код здесь"
   ]
  },
  {
   "cell_type": "markdown",
   "metadata": {},
   "source": [
    "Так как мы будем использовать различные модели, в том числе внутри которых заложены численные методы оптимизации, то давайте заранее позаботимся о масштабировании факторов. \n"
   ]
  },
  {
   "cell_type": "markdown",
   "metadata": {},
   "source": [
    "### Задание 4.5.\n",
    "Нормализуйте предикторы в обучающей и валидационной выборках с помощью MinMaxScaler из библиотеки sklearn. Помните, что обучение нормализатора производится на обучающей выборке, а трансформация на обучающей и валидационной!\n",
    "\n",
    "Рассчитайте среднее арифметическое для первого предиктора (т. е. для первого столбца матрицы) из валидационной выборки. Ответ округлите до сотых.\n"
   ]
  },
  {
   "cell_type": "code",
   "execution_count": null,
   "metadata": {},
   "outputs": [],
   "source": [
    "# ваш код здесь"
   ]
  },
  {
   "cell_type": "markdown",
   "metadata": {},
   "source": [
    "## 5. Решение задачи регрессии: линейная регрессия и деревья решений"
   ]
  },
  {
   "cell_type": "markdown",
   "metadata": {},
   "source": [
    "Определим метрику, по которой мы будем измерять качество наших моделей. Мы будем следовать канонам исходного соревнования на Kaggle и в качестве метрики использовать RMSLE (Root Mean Squared Log Error), которая вычисляется как:\n",
    "$$RMSLE = \\sqrt{\\frac{1}{n}\\sum_{i=1}^n(log(y_i+1)-log(\\hat{y_i}+1))^2},$$\n",
    "где:\n",
    "* $y_i$ - истинная длительность i-ой поездки на такси (trip_duration)\n",
    "* $\\hat{y_i}$- предсказанная моделью длительность i-ой поездки на такси\n",
    "\n",
    "Заметим, что логарифмирование целевого признака мы уже провели заранее, поэтому нам будет достаточно вычислить метрику RMSE для модели, обученной прогнозировать длительность поездки такси в логарифмическом масштабе:\n",
    "$$z_i=log(y_i+1),$$\n",
    "$$RMSLE = \\sqrt{\\frac{1}{n}\\sum_{i=1}^n(z_i-\\hat{z_i})^2}=\\sqrt{MSE(z_i,\\hat{z_i})}$$ \n",
    "\n"
   ]
  },
  {
   "cell_type": "markdown",
   "metadata": {},
   "source": [
    "### Задание 5.1.\n",
    "Постройте модель линейной регрессии на обучающей выборке (факторы должны быть нормализованы, целевую переменную используйте в логарифмическом масштабе). Все параметры оставьте по умолчанию.\n",
    "\n",
    "Для полученной модели рассчитайте метрику RMSLE на тренировочной и валидационной выборках. Ответ округлите до сотых.\n"
   ]
  },
  {
   "cell_type": "code",
   "execution_count": null,
   "metadata": {},
   "outputs": [],
   "source": [
    "# ваш код здесь"
   ]
  },
  {
   "cell_type": "markdown",
   "metadata": {},
   "source": [
    "### Задание 5.2.\n",
    "Сгенерируйте полиномиальные признаки 2-ой степени с помощью PolynomialFeatures из библиотеки sklearn. Параметр include_bias выставите в значение False.\n",
    "\n",
    "Постройте модель полиномиальной регрессии 2-ой степени на обучающей выборке (факторы должны быть нормализованы, целевую переменную используйте в логарифмическом масштабе). Все параметры оставьте по умолчанию.\n",
    "\n",
    "а) Для полученной модели рассчитайте метрику RMSLE на тренировочной и валидационной выборках. Ответ округлите до сотых.\n",
    "\n",
    "б) Наблюдаются ли у вашей модели признаки переобучения?\n"
   ]
  },
  {
   "cell_type": "code",
   "execution_count": null,
   "metadata": {},
   "outputs": [],
   "source": [
    "# ваш код здесь"
   ]
  },
  {
   "cell_type": "markdown",
   "metadata": {},
   "source": [
    "### Задание 5.3.\n",
    "Постройте модель полиномиальной регрессии 2-ой степени с L2-регуляризацией (регуляризация по Тихонову) на обучающей выборке  (факторы должны быть нормализованы, целевую переменную используйте в логарифмическом масштабе). Коэффициент регуляризации $\\alpha установите равным 1, остальные параметры оставьте по умолчанию.\n",
    "\n",
    "Для полученной модели рассчитайте метрику RMSLE на тренировочной и валидационной выборках. Ответ округлите до сотых.\n"
   ]
  },
  {
   "cell_type": "code",
   "execution_count": null,
   "metadata": {},
   "outputs": [],
   "source": [
    "# ваш код здесь"
   ]
  },
  {
   "cell_type": "markdown",
   "metadata": {},
   "source": [
    "### Задание 5.4.\n",
    "Постройте модель дерева решений (DecisionTreeRegressor) на обучающей выборке (факторы должны быть нормализованы, целевую переменную используйте в логарифмическом масштабе). Все параметры оставьте по умолчанию. \n",
    "\n",
    "а) Для полученной модели рассчитайте метрику RMSLE на тренировочной и валидационной выборках. Ответ округлите до сотых.\n",
    "\n",
    "б) Наблюдаются ли у вашей модели признаки переобучения?\n"
   ]
  },
  {
   "cell_type": "code",
   "execution_count": null,
   "metadata": {},
   "outputs": [],
   "source": [
    "# ваш код здесь"
   ]
  },
  {
   "cell_type": "markdown",
   "metadata": {},
   "source": [
    "### Задание 5.5.\n",
    "Переберите все возможные варианты глубины дерева решений в диапазоне от 7 до 20:\n",
    "\n",
    "max_depths = range(7, 20)\n",
    "\n",
    "Постройте линейные графики изменения метрики RMSE на тренировочной и валидационной выборках в зависимости от значения параметра глубины дерева решений. \n",
    "\n",
    "а) Найдите оптимальное значение максимальной глубины дерева, для которой будет наблюдаться минимальное значение RMSLE на обучающей выборке, но при этом еще не будет наблюдаться переобучение (валидационная кривая еще не начинает возрастать).\n",
    "\n",
    "б) Чему равно значение метрик RMSLE на тренировочной и валидационной выборках для дерева решений с выбранной оптимальной глубиной? Ответ округлите до сотых.\n"
   ]
  },
  {
   "cell_type": "code",
   "execution_count": null,
   "metadata": {},
   "outputs": [],
   "source": [
    "# ваш код здесь"
   ]
  },
  {
   "cell_type": "markdown",
   "metadata": {},
   "source": [
    "## 6. Решение задачи регрессии: ансамблевые методы и построение прогноза"
   ]
  },
  {
   "cell_type": "markdown",
   "metadata": {},
   "source": [
    "Переходим к тяжелой артиллерии: ансамблевым алгоритмам. "
   ]
  },
  {
   "cell_type": "markdown",
   "metadata": {},
   "source": [
    "### Задание 6.1.\n",
    "\n",
    "Постройте модель случайного леса на обучающей выборке (факторы должны быть нормализованы, целевую переменную используйте в логарифмическом масштабе). В качестве гиперпараметров укажите следующие:\n",
    "* n_estimators=200,\n",
    "* max_depth=12,\n",
    "* criterion='squared_error',\n",
    "* min_samples_split=20,\n",
    "* random_state=42\n",
    "\n",
    "Для полученной модели рассчитайте метрику RMSLE на тренировочной и валидационной выборках. Ответ округлите до сотых.\n"
   ]
  },
  {
   "cell_type": "code",
   "execution_count": null,
   "metadata": {},
   "outputs": [],
   "source": [
    "# ваш код здесь"
   ]
  },
  {
   "cell_type": "markdown",
   "metadata": {},
   "source": [
    "### Задание 6.2.\n",
    "Постройте модель градиентного бустинга над деревьями решений (GradientBoostingRegressor) на обучающей выборке (факторы должны быть нормализованы, целевую переменную используйте в логарифмическом масштабе). В качестве гиперпараметров укажите следующие:\n",
    "* learning_rate=0.5,\n",
    "* n_estimators=100,\n",
    "* max_depth=6, \n",
    "* min_samples_split=30,\n",
    "* random_state=42\n",
    "\n",
    "Для полученной модели рассчитайте метрику RMSLE на тренировочной и валидационной выборках. Ответ округлите до сотых.\n"
   ]
  },
  {
   "cell_type": "code",
   "execution_count": null,
   "metadata": {},
   "outputs": [],
   "source": [
    "# ваш код здесь"
   ]
  },
  {
   "cell_type": "markdown",
   "metadata": {},
   "source": [
    "### Задание 6.3.\n",
    "Какая из построенных вами моделей показала наилучший результат (наименьшее значение RMSLE на валидационной выборке)?\n",
    "* Линейная регрессия\n",
    "* Полиномиальная регрессия 2ой степени\n",
    "* Дерево решений\n",
    "* Случайный лес\n",
    "* Градиентный бустинг над деревьями решений\n"
   ]
  },
  {
   "cell_type": "markdown",
   "metadata": {},
   "source": [
    "### Задание 6.4.\n",
    "Постройте столбчатую диаграмму коэффициентов значимости каждого из факторов.\n",
    "\n",
    "Укажите топ-3 наиболее значимых для предсказания целевого признака - длительности поездки в логарифмическом масштабе - факторов.\n"
   ]
  },
  {
   "cell_type": "code",
   "execution_count": null,
   "metadata": {},
   "outputs": [],
   "source": [
    "# ваш код здесь"
   ]
  },
  {
   "cell_type": "markdown",
   "metadata": {},
   "source": [
    "### Задание 6.5.\n",
    "Для лучшей из построенных моделей рассчитайте медианную абсолютную ошибку (MeAE - в sklearn функция median_absolute_error) предсказания длительности поездки такси на валидационной выборке:\n",
    "$$ MeAE = median(|y_i-\\hat{y_i}|)$$\n",
    "\n",
    "Значение метрики MeAE переведите в минуты и округлите до десятых.\n"
   ]
  },
  {
   "cell_type": "code",
   "execution_count": null,
   "metadata": {},
   "outputs": [],
   "source": [
    "# ваш код здесь"
   ]
  },
  {
   "cell_type": "markdown",
   "metadata": {},
   "source": [
    "Финальный шаг - сделать submit -  предсказание для отложенного тестового набора данных. "
   ]
  },
  {
   "cell_type": "markdown",
   "metadata": {},
   "source": [
    "Прочитаем тестовые данные и заранее выделим столбец с идентификаторами поездок из тестового набора данных. Он нам еще пригодится:\n"
   ]
  },
  {
   "cell_type": "code",
   "execution_count": null,
   "metadata": {},
   "outputs": [],
   "source": [
    "test_data = pd.read_csv(\"data/test.csv\")\n",
    "osrm_data_test = pd.read_csv(\"data/osrm_data_test.csv\")\n",
    "test_id = test_data['id']"
   ]
  },
  {
   "cell_type": "markdown",
   "metadata": {},
   "source": [
    "Перед созданием прогноза для тестовой выборки необходимо произвести все манипуляции с данными, которые мы производили с тренировочной выборкой, а именно:\n",
    "* Перевести признак pickup_datetime в формат datetime;\n",
    "* Добавить новые признаки (временные, географические, погодные и другие факторы);\n",
    "* Произвести очистку данных от пропусков;\n",
    "* Произвести кодировку категориальных признаков:\n",
    "    * Закодировать бинарные признаки;\n",
    "    * Закодировать номинальные признаки с помощью обученного на тренировочной выборке OneHotEncoder’а;\n",
    "* Сформировать матрицу наблюдений, оставив в таблице только те признаки, которые были отобраны с помощью SelectKBest;\n",
    "* Нормализовать данные с помощью обученного на тренировочной выборке MinMaxScaler’а.\n"
   ]
  },
  {
   "cell_type": "code",
   "execution_count": null,
   "metadata": {},
   "outputs": [],
   "source": [
    "test_data['pickup_datetime']=pd.to_datetime(test_data['pickup_datetime'],format='%Y-%m-%d %H:%M:%S')\n",
    "test_data = add_datetime_features(test_data)\n",
    "test_data = add_holiday_features(test_data, holiday_data)\n",
    "test_data = add_osrm_features(test_data, osrm_data_test)\n",
    "test_data = add_distance_features(test_data)\n",
    "test_data = add_cluster_features(test_data, kmeans)\n",
    "test_data = add_weather_features(test_data, weather_data)\n",
    "test_data = clear_null_data(test_data)\n",
    "\n",
    "test_data['vendor_id'] = test_data['vendor_id'].apply(lambda x: 0 if x == 1 else 1)\n",
    "test_data['store_and_fwd_flag'] = test_data['store_and_fwd_flag'].apply(lambda x: 0 if x == 'N' else 1)\n",
    "test_data_onehot = one_hot_encoder.fit_transform(test_data[columns_to_change]).toarray()\n",
    "column_names = one_hot_encoder.get_feature_names_out(columns_to_change)\n",
    "test_data_onehot = pd.DataFrame(test_data_onehot, columns=column_names)\n",
    "\n",
    "test_data = pd.concat(\n",
    "    [test_data.reset_index(drop=True).drop(columns_to_change, axis=1), test_data_onehot], \n",
    "    axis=1\n",
    ")\n",
    "X_test = test_data[best_features]\n",
    "X_test_scaled = scaler.transform(X_test)\n",
    "print('Shape of data: {}'.format(X_test.shape))"
   ]
  },
  {
   "cell_type": "markdown",
   "metadata": {},
   "source": [
    "Только после выполнения всех этих шагов можно сделать предсказание длительности поездки для тестовой выборки. Не забудьте перевести предсказания из логарифмического масштаба в истинный, используя формулу:\n",
    "$$y_i=exp(z_i)-1$$\n",
    "\n",
    "После того, как вы сформируете предсказание длительности поездок на тестовой выборке вам необходимо будет создать submission-файл в формате csv, отправить его на платформу Kaggle и посмотреть на результирующее значение метрики RMSLE на тестовой выборке.\n",
    "\n",
    "Код для создания submission-файла:\n"
   ]
  },
  {
   "cell_type": "code",
   "execution_count": null,
   "metadata": {},
   "outputs": [],
   "source": [
    "# ваш код здесь\n",
    "submission = pd.DataFrame({'id': test_id, 'trip_duration': y_test_predict})\n",
    "submission.to_csv('data/submission_gb.csv', index=False)"
   ]
  },
  {
   "cell_type": "markdown",
   "metadata": {},
   "source": [
    "### **В качестве бонуса**\n",
    "\n",
    "В завершение по ансамблевым мы предлагаем вам попробовать улучшить свое предсказание, воспользовавшись моделью экстремального градиентного бустинга (XGBoost) из библиотеки xgboost.\n",
    "\n",
    "**XGBoost** - современная модель машинного обучения, которая является продолжением идеи градиентного бустинга Фридмана. У нее есть несколько преимуществ по сравнению с классической моделью градиентного бустинга из библиотеки sklearn: повышенная производительность путем параллелизации процесса обучения, повышенное качество решения за счет усовершенствования алгоритма бустинга, меньшая склонность к переобучению и широкий функционал возможности управления параметрами модели.\n"
   ]
  },
  {
   "cell_type": "markdown",
   "metadata": {},
   "source": [
    "Для ее использования необходимо для начала установить пакет xgboost:"
   ]
  },
  {
   "cell_type": "code",
   "execution_count": null,
   "metadata": {},
   "outputs": [],
   "source": [
    "#!pip install xgboost"
   ]
  },
  {
   "cell_type": "markdown",
   "metadata": {},
   "source": [
    "После чего модуль можно импортировать:"
   ]
  },
  {
   "cell_type": "code",
   "execution_count": null,
   "metadata": {},
   "outputs": [],
   "source": [
    "import xgboost as xgb"
   ]
  },
  {
   "cell_type": "markdown",
   "metadata": {},
   "source": [
    "Перед обучением модели необходимо перевести наборы данных в тип данных xgboost.DMatrix:"
   ]
  },
  {
   "cell_type": "code",
   "execution_count": null,
   "metadata": {},
   "outputs": [],
   "source": [
    "# Создание матриц наблюдений в формате DMatrix\n",
    "dtrain = xgb.DMatrix(X_train_scaled, label=y_train_log, feature_names=best_features)\n",
    "dvalid = xgb.DMatrix(X_valid_scaled, label=y_valid_log, feature_names=best_features)\n",
    "dtest = xgb.DMatrix(X_test_scaled, feature_names=best_features)"
   ]
  },
  {
   "cell_type": "markdown",
   "metadata": {},
   "source": [
    "Обучение модели XGBoost происходит с помощью метода train, в который необходимо передать параметры модели, набор данных, количество базовых моделей в ансамбле, а также дополнительные параметры:\n"
   ]
  },
  {
   "cell_type": "code",
   "execution_count": null,
   "metadata": {},
   "outputs": [],
   "source": [
    "# Гиперпараметры модели\n",
    "xgb_pars = {'min_child_weight': 20, 'eta': 0.1, 'colsample_bytree': 0.9, \n",
    "            'max_depth': 6, 'subsample': 0.9, 'lambda': 1, 'nthread': -1, \n",
    "            'booster' : 'gbtree', 'eval_metric': 'rmse', 'objective': 'reg:squarederror'\n",
    "           }\n",
    "# Тренировочная и валидационная выборка\n",
    "watchlist = [(dtrain, 'train'), (dvalid, 'valid')]\n",
    "# Обучаем модель XGBoost\n",
    "model = xgb.train(\n",
    "    params=xgb_pars, #гиперпараметры модели\n",
    "    dtrain=dtrain, #обучающая выборка\n",
    "    num_boost_round=300, #количество моделей в ансамбле\n",
    "    evals=watchlist, #выборки, на которых считается матрица\n",
    "    early_stopping_rounds=20, #раняя остановка\n",
    "    maximize=False, #смена поиска максимума на минимум\n",
    "    verbose_eval=10 #шаг, через который происходит отображение метрик\n",
    ")"
   ]
  },
  {
   "cell_type": "markdown",
   "metadata": {},
   "source": [
    "Предсказать целевой признак на новых данных можно с помощью метода predict():"
   ]
  },
  {
   "cell_type": "code",
   "execution_count": null,
   "metadata": {},
   "outputs": [],
   "source": [
    "#Делаем предсказание на тестовом наборе данных\n",
    "y_test_predict = np.exp(model.predict(dtest)) - 1\n",
    "print('Modeling RMSLE %.5f' % model.best_score)"
   ]
  },
  {
   "cell_type": "markdown",
   "metadata": {},
   "source": [
    "Также как и все модели, основанные на использовании деревьев решений в качестве базовых моделей, XGBoost имеет возможность определения коэффициентов важности факторов. Более того, в библиотеку встроена возможность визуализации важность факторов в виде столбчатой диаграммы. За эту возможность отвечает функция plot_importance():\n"
   ]
  },
  {
   "cell_type": "code",
   "execution_count": null,
   "metadata": {},
   "outputs": [],
   "source": [
    "fig, ax = plt.subplots(figsize = (15,15))\n",
    "xgb.plot_importance(model, ax = ax, height=0.5)"
   ]
  }
 ],
 "metadata": {
  "kernelspec": {
   "display_name": "Python 3.10.6 ('DS': venv)",
   "language": "python",
   "name": "python3"
  },
  "language_info": {
   "codemirror_mode": {
    "name": "ipython",
    "version": 3
   },
   "file_extension": ".py",
   "mimetype": "text/x-python",
   "name": "python",
   "nbconvert_exporter": "python",
   "pygments_lexer": "ipython3",
   "version": "3.10.6"
  },
  "vscode": {
   "interpreter": {
    "hash": "f61d73f7174eb3ec2f3c116b528748d8105c9333b2718c741884bdf33fe40ef5"
   }
  }
 },
 "nbformat": 4,
 "nbformat_minor": 4
}
